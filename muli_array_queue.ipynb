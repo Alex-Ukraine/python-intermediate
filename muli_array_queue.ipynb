{
  "nbformat": 4,
  "nbformat_minor": 0,
  "metadata": {
    "colab": {
      "name": "muli-array-queue.ipynb",
      "provenance": [],
      "authorship_tag": "ABX9TyMEqAUXgT5qtkAmlHFPsWu9",
      "include_colab_link": true
    },
    "kernelspec": {
      "name": "python3",
      "display_name": "Python 3"
    }
  },
  "cells": [
    {
      "cell_type": "markdown",
      "metadata": {
        "id": "view-in-github",
        "colab_type": "text"
      },
      "source": [
        "<a href=\"https://colab.research.google.com/github/Alex-Ukraine/python-intermediate/blob/master/muli_array_queue.ipynb\" target=\"_parent\"><img src=\"https://colab.research.google.com/assets/colab-badge.svg\" alt=\"Open In Colab\"/></a>"
      ]
    },
    {
      "cell_type": "code",
      "metadata": {
        "id": "LF1CU99da8hE",
        "colab_type": "code",
        "colab": {}
      },
      "source": [
        "from multiprocessing import Process, Value, Array, Lock, Queue\n",
        "import time"
      ],
      "execution_count": 46,
      "outputs": []
    },
    {
      "cell_type": "code",
      "metadata": {
        "id": "fJcIaP3HlL_e",
        "colab_type": "code",
        "colab": {}
      },
      "source": [
        "def square(numbers, queue):\n",
        "    for i in numbers:\n",
        "        queue.put(i*i)"
      ],
      "execution_count": 47,
      "outputs": []
    },
    {
      "cell_type": "code",
      "metadata": {
        "id": "AIlLlwxTlMMM",
        "colab_type": "code",
        "colab": {}
      },
      "source": [
        "def make_negative(numbers, queue):\n",
        "    for i in numbers:\n",
        "        queue.put(-i*i)"
      ],
      "execution_count": 48,
      "outputs": []
    },
    {
      "cell_type": "code",
      "metadata": {
        "id": "MFpp2PKxb_Zs",
        "colab_type": "code",
        "colab": {
          "base_uri": "https://localhost:8080/",
          "height": 187
        },
        "outputId": "3c18d5f2-33f7-4eef-d1a0-288362d609d0"
      },
      "source": [
        "if __name__ == '__main__':\n",
        "\n",
        "    numbers = range(1, 6)\n",
        "    q = Queue()\n",
        "\n",
        "    p1 = Process(target=square, args=(numbers, q))\n",
        "    p2 = Process(target=make_negative, args=(numbers, q))\n",
        "\n",
        "    p1.start()\n",
        "    p2.start()\n",
        "\n",
        "    p1.join()\n",
        "    p2.join()\n",
        "\n",
        "    while not q.empty():\n",
        "        print(q.get())"
      ],
      "execution_count": 49,
      "outputs": [
        {
          "output_type": "stream",
          "text": [
            "1\n",
            "4\n",
            "9\n",
            "16\n",
            "25\n",
            "-1\n",
            "-4\n",
            "-9\n",
            "-16\n",
            "-25\n"
          ],
          "name": "stdout"
        }
      ]
    }
  ]
}