{
  "nbformat": 4,
  "nbformat_minor": 0,
  "metadata": {
    "colab": {
      "name": "json.ipynb",
      "provenance": [],
      "authorship_tag": "ABX9TyO4COKGwAHQV+bqjNcoHiFH",
      "include_colab_link": true
    },
    "kernelspec": {
      "name": "python3",
      "display_name": "Python 3"
    }
  },
  "cells": [
    {
      "cell_type": "markdown",
      "metadata": {
        "id": "view-in-github",
        "colab_type": "text"
      },
      "source": [
        "<a href=\"https://colab.research.google.com/github/Alex-Ukraine/python-intermediate/blob/master/json.ipynb\" target=\"_parent\"><img src=\"https://colab.research.google.com/assets/colab-badge.svg\" alt=\"Open In Colab\"/></a>"
      ]
    },
    {
      "cell_type": "code",
      "metadata": {
        "id": "Vhjl0muerAYB",
        "colab_type": "code",
        "colab": {}
      },
      "source": [
        "import json"
      ],
      "execution_count": 44,
      "outputs": []
    },
    {
      "cell_type": "code",
      "metadata": {
        "id": "LEH17m5UriJ3",
        "colab_type": "code",
        "colab": {}
      },
      "source": [
        "person = {\"name\": \"John\", \"age\": 30, \"city\": \"New York\", \"hasChildren\": False, \"titles\": [\"engineer\", \"programmer\"]}"
      ],
      "execution_count": 45,
      "outputs": []
    },
    {
      "cell_type": "code",
      "metadata": {
        "id": "6IIH9XMvsQ_-",
        "colab_type": "code",
        "colab": {
          "base_uri": "https://localhost:8080/",
          "height": 187
        },
        "outputId": "34d34695-5efc-489a-b9c3-9bf95692db76"
      },
      "source": [
        "personJSON = json.dumps(person, indent=4, sort_keys=True)\n",
        "print(personJSON)"
      ],
      "execution_count": 46,
      "outputs": [
        {
          "output_type": "stream",
          "text": [
            "{\n",
            "    \"age\": 30,\n",
            "    \"city\": \"New York\",\n",
            "    \"hasChildren\": false,\n",
            "    \"name\": \"John\",\n",
            "    \"titles\": [\n",
            "        \"engineer\",\n",
            "        \"programmer\"\n",
            "    ]\n",
            "}\n"
          ],
          "name": "stdout"
        }
      ]
    },
    {
      "cell_type": "code",
      "metadata": {
        "id": "15ynD36Hsxcm",
        "colab_type": "code",
        "colab": {}
      },
      "source": [
        "with open('person.json', 'w') as file:\n",
        "    json.dump(person, file, indent=4)"
      ],
      "execution_count": 47,
      "outputs": []
    },
    {
      "cell_type": "code",
      "metadata": {
        "id": "DhYyfaQjtYpe",
        "colab_type": "code",
        "colab": {
          "base_uri": "https://localhost:8080/",
          "height": 34
        },
        "outputId": "e84319a1-14db-4492-f40f-67d960914c25"
      },
      "source": [
        "person = json.loads(personJSON)\n",
        "print(person)"
      ],
      "execution_count": 48,
      "outputs": [
        {
          "output_type": "stream",
          "text": [
            "{'age': 30, 'city': 'New York', 'hasChildren': False, 'name': 'John', 'titles': ['engineer', 'programmer']}\n"
          ],
          "name": "stdout"
        }
      ]
    },
    {
      "cell_type": "code",
      "metadata": {
        "id": "qHOWA25Ut9Du",
        "colab_type": "code",
        "colab": {
          "base_uri": "https://localhost:8080/",
          "height": 34
        },
        "outputId": "ab518d92-9b76-4f03-f1da-f1009d571201"
      },
      "source": [
        "with open('person.json', 'r') as file:\n",
        "    person = json.load(file)\n",
        "    print(person)"
      ],
      "execution_count": 49,
      "outputs": [
        {
          "output_type": "stream",
          "text": [
            "{'name': 'John', 'age': 30, 'city': 'New York', 'hasChildren': False, 'titles': ['engineer', 'programmer']}\n"
          ],
          "name": "stdout"
        }
      ]
    },
    {
      "cell_type": "code",
      "metadata": {
        "id": "7dHcXJ6FwBlm",
        "colab_type": "code",
        "colab": {}
      },
      "source": [
        "class User:\n",
        "    def __init__(self, name, age):\n",
        "        self.name = name\n",
        "        self.age = age"
      ],
      "execution_count": 50,
      "outputs": []
    },
    {
      "cell_type": "code",
      "metadata": {
        "id": "ZQeMyH35wOxd",
        "colab_type": "code",
        "colab": {}
      },
      "source": [
        "user = User('Max', 27)"
      ],
      "execution_count": 51,
      "outputs": []
    },
    {
      "cell_type": "code",
      "metadata": {
        "id": "DrALVjmowSnm",
        "colab_type": "code",
        "colab": {}
      },
      "source": [
        "def encode_user(o):\n",
        "    if isinstance(o, User):\n",
        "        return {'name': o.name, 'age': o.age, o.__class__.__name__: True}\n",
        "    else:\n",
        "        raise TypeError"
      ],
      "execution_count": 52,
      "outputs": []
    },
    {
      "cell_type": "code",
      "metadata": {
        "id": "26jxTj25wpZB",
        "colab_type": "code",
        "colab": {
          "base_uri": "https://localhost:8080/",
          "height": 34
        },
        "outputId": "09bded15-b178-439a-ce76-bffd1cf2c929"
      },
      "source": [
        "userJSON = json.dumps(user, default=encode_user)\n",
        "print(userJSON)"
      ],
      "execution_count": 53,
      "outputs": [
        {
          "output_type": "stream",
          "text": [
            "{\"name\": \"Max\", \"age\": 27, \"User\": true}\n"
          ],
          "name": "stdout"
        }
      ]
    },
    {
      "cell_type": "code",
      "metadata": {
        "id": "mRVws2gqxt03",
        "colab_type": "code",
        "colab": {}
      },
      "source": [
        "from json import JSONEncoder\n",
        "class UserEncoder(JSONEncoder):\n",
        "    def default(self, o):\n",
        "        if isinstance(o, User):\n",
        "            return {'name': o.name, 'age': o.age, o.__class__.__name__: True}\n",
        "        return JSONEncoder.default(self, o)"
      ],
      "execution_count": 54,
      "outputs": []
    },
    {
      "cell_type": "code",
      "metadata": {
        "id": "nSaq-1VLyKtP",
        "colab_type": "code",
        "colab": {
          "base_uri": "https://localhost:8080/",
          "height": 34
        },
        "outputId": "373d0c1f-9427-40a5-f5cb-496f14794664"
      },
      "source": [
        "userJSON = json.dumps(user, cls=UserEncoder)\n",
        "print(userJSON)"
      ],
      "execution_count": 55,
      "outputs": [
        {
          "output_type": "stream",
          "text": [
            "{\"name\": \"Max\", \"age\": 27, \"User\": true}\n"
          ],
          "name": "stdout"
        }
      ]
    },
    {
      "cell_type": "code",
      "metadata": {
        "id": "arJRIFVWylpn",
        "colab_type": "code",
        "colab": {
          "base_uri": "https://localhost:8080/",
          "height": 34
        },
        "outputId": "631095d0-63e9-41d5-a552-2f8f952b0591"
      },
      "source": [
        "userJSON = UserEncoder().encode(user)\n",
        "print(userJSON)"
      ],
      "execution_count": 56,
      "outputs": [
        {
          "output_type": "stream",
          "text": [
            "{\"name\": \"Max\", \"age\": 27, \"User\": true}\n"
          ],
          "name": "stdout"
        }
      ]
    },
    {
      "cell_type": "code",
      "metadata": {
        "id": "aPwQZIAg3gDA",
        "colab_type": "code",
        "colab": {}
      },
      "source": [
        "def decode_user(dct):\n",
        "    if User.__name__ in dct:\n",
        "        return User(name=dct['name'], age=dct['age'])\n",
        "    return dct"
      ],
      "execution_count": 57,
      "outputs": []
    },
    {
      "cell_type": "code",
      "metadata": {
        "id": "XlRz_tt131x_",
        "colab_type": "code",
        "colab": {
          "base_uri": "https://localhost:8080/",
          "height": 51
        },
        "outputId": "fde62553-4471-40a2-88aa-6fd45a763f49"
      },
      "source": [
        "user = json.loads(userJSON, object_hook=decode_user)\n",
        "print(type(user))\n",
        "print(user.name)"
      ],
      "execution_count": 58,
      "outputs": [
        {
          "output_type": "stream",
          "text": [
            "<class '__main__.User'>\n",
            "Max\n"
          ],
          "name": "stdout"
        }
      ]
    }
  ]
}