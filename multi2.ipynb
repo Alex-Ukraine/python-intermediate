{
  "nbformat": 4,
  "nbformat_minor": 0,
  "metadata": {
    "colab": {
      "name": "multi2.ipynb",
      "provenance": [],
      "authorship_tag": "ABX9TyO3OGzimLtO/zvomFwQlmDr",
      "include_colab_link": true
    },
    "kernelspec": {
      "name": "python3",
      "display_name": "Python 3"
    }
  },
  "cells": [
    {
      "cell_type": "markdown",
      "metadata": {
        "id": "view-in-github",
        "colab_type": "text"
      },
      "source": [
        "<a href=\"https://colab.research.google.com/github/Alex-Ukraine/python-intermediate/blob/master/multi2.ipynb\" target=\"_parent\"><img src=\"https://colab.research.google.com/assets/colab-badge.svg\" alt=\"Open In Colab\"/></a>"
      ]
    },
    {
      "cell_type": "code",
      "metadata": {
        "id": "LttgYahSlFY5",
        "colab_type": "code",
        "colab": {}
      },
      "source": [
        "from threading import Thread, Lock\n",
        "import time"
      ],
      "execution_count": 47,
      "outputs": []
    },
    {
      "cell_type": "code",
      "metadata": {
        "id": "uimGI0rdlNEt",
        "colab_type": "code",
        "colab": {}
      },
      "source": [
        "def increase(lock):\n",
        "    global database_value\n",
        "\n",
        "    with lock:\n",
        "        local_copy = database_value\n",
        "\n",
        "        # processing\n",
        "        local_copy += 1\n",
        "        time.sleep(0.1)\n",
        "        database_value = local_copy"
      ],
      "execution_count": 48,
      "outputs": []
    },
    {
      "cell_type": "code",
      "metadata": {
        "id": "bToo6krau26I",
        "colab_type": "code",
        "colab": {}
      },
      "source": [
        "database_value = 0"
      ],
      "execution_count": 49,
      "outputs": []
    },
    {
      "cell_type": "code",
      "metadata": {
        "id": "GUr1uPGcpz6Q",
        "colab_type": "code",
        "colab": {
          "base_uri": "https://localhost:8080/",
          "height": 68
        },
        "outputId": "336225c6-94f0-4fec-c8c0-4a96633c4677"
      },
      "source": [
        "if __name__ == \"__main__\":\n",
        "    \n",
        "    lock = Lock()\n",
        "\n",
        "    print('start value', database_value)\n",
        "\n",
        "    thread1 = Thread(target=increase, args=(lock,))\n",
        "    thread2 = Thread(target=increase, args=(lock,))\n",
        "\n",
        "    thread1.start()\n",
        "    thread2.start()\n",
        "\n",
        "    thread1.join()\n",
        "    thread2.join()\n",
        "\n",
        "    print('end value', database_value)\n",
        "\n",
        "    print('end main')"
      ],
      "execution_count": 50,
      "outputs": [
        {
          "output_type": "stream",
          "text": [
            "start value 0\n",
            "end value 2\n",
            "end main\n"
          ],
          "name": "stdout"
        }
      ]
    }
  ]
}