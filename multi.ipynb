{
  "nbformat": 4,
  "nbformat_minor": 0,
  "metadata": {
    "colab": {
      "name": "multi.ipynb",
      "provenance": [],
      "authorship_tag": "ABX9TyPuusiL9MnkATAWQugn73+k",
      "include_colab_link": true
    },
    "kernelspec": {
      "name": "python3",
      "display_name": "Python 3"
    }
  },
  "cells": [
    {
      "cell_type": "markdown",
      "metadata": {
        "id": "view-in-github",
        "colab_type": "text"
      },
      "source": [
        "<a href=\"https://colab.research.google.com/github/Alex-Ukraine/python-intermediate/blob/master/multi.ipynb\" target=\"_parent\"><img src=\"https://colab.research.google.com/assets/colab-badge.svg\" alt=\"Open In Colab\"/></a>"
      ]
    },
    {
      "cell_type": "code",
      "metadata": {
        "id": "LttgYahSlFY5",
        "colab_type": "code",
        "colab": {}
      },
      "source": [
        "#from multiprocessing import Process\n",
        "from threading import Thread\n",
        "import os\n",
        "import time"
      ],
      "execution_count": 31,
      "outputs": []
    },
    {
      "cell_type": "code",
      "metadata": {
        "id": "uimGI0rdlNEt",
        "colab_type": "code",
        "colab": {}
      },
      "source": [
        "def square_numbers():\n",
        "    for i in range(100):\n",
        "        i * i\n",
        "        time.sleep(0.1)"
      ],
      "execution_count": 32,
      "outputs": []
    },
    {
      "cell_type": "code",
      "metadata": {
        "id": "g-qsWJiglTzt",
        "colab_type": "code",
        "colab": {}
      },
      "source": [
        "# processes = []\n",
        "# num_processes = os.cpu_count()\n",
        "# print(num_processes)"
      ],
      "execution_count": 33,
      "outputs": []
    },
    {
      "cell_type": "code",
      "metadata": {
        "id": "GUr1uPGcpz6Q",
        "colab_type": "code",
        "colab": {}
      },
      "source": [
        "threads = []\n",
        "num_threads = 10"
      ],
      "execution_count": 34,
      "outputs": []
    },
    {
      "cell_type": "code",
      "metadata": {
        "id": "hu6T3NRYlazN",
        "colab_type": "code",
        "colab": {}
      },
      "source": [
        "# create processes\n",
        "for i in range(num_threads):\n",
        "    t = Thread(target=square_numbers)\n",
        "    threads.append(t)"
      ],
      "execution_count": 35,
      "outputs": []
    },
    {
      "cell_type": "code",
      "metadata": {
        "id": "NnXNTrnKmLl8",
        "colab_type": "code",
        "colab": {}
      },
      "source": [
        "# start\n",
        "for t in threads:\n",
        "    t.start()"
      ],
      "execution_count": 36,
      "outputs": []
    },
    {
      "cell_type": "code",
      "metadata": {
        "id": "XHF25IIgmQsU",
        "colab_type": "code",
        "colab": {}
      },
      "source": [
        "# join threads: wait to them to complete\n",
        "for t in threads:\n",
        "    t.join()"
      ],
      "execution_count": 37,
      "outputs": []
    },
    {
      "cell_type": "code",
      "metadata": {
        "id": "D-9wIa3umsoF",
        "colab_type": "code",
        "colab": {
          "base_uri": "https://localhost:8080/",
          "height": 34
        },
        "outputId": "bbfb6568-b7c7-4364-af67-cfa7bd5482fd"
      },
      "source": [
        "print('end main')"
      ],
      "execution_count": 38,
      "outputs": [
        {
          "output_type": "stream",
          "text": [
            "end main\n"
          ],
          "name": "stdout"
        }
      ]
    }
  ]
}