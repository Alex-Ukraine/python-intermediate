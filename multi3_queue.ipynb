{
  "nbformat": 4,
  "nbformat_minor": 0,
  "metadata": {
    "colab": {
      "name": "multi3-queue.ipynb",
      "provenance": [],
      "authorship_tag": "ABX9TyOhZ8xf0WZTGofmF+Vb5JX2",
      "include_colab_link": true
    },
    "kernelspec": {
      "name": "python3",
      "display_name": "Python 3"
    }
  },
  "cells": [
    {
      "cell_type": "markdown",
      "metadata": {
        "id": "view-in-github",
        "colab_type": "text"
      },
      "source": [
        "<a href=\"https://colab.research.google.com/github/Alex-Ukraine/python-intermediate/blob/master/multi3_queue.ipynb\" target=\"_parent\"><img src=\"https://colab.research.google.com/assets/colab-badge.svg\" alt=\"Open In Colab\"/></a>"
      ]
    },
    {
      "cell_type": "code",
      "metadata": {
        "id": "LttgYahSlFY5",
        "colab_type": "code",
        "colab": {}
      },
      "source": [
        "from threading import Thread, Lock, current_thread\n",
        "import time\n",
        "from queue import Queue"
      ],
      "execution_count": 70,
      "outputs": []
    },
    {
      "cell_type": "code",
      "metadata": {
        "id": "7_r9F20v308J",
        "colab_type": "code",
        "colab": {}
      },
      "source": [
        "def worker(q, lock):\n",
        "    while True:\n",
        "        value = q.get()\n",
        "\n",
        "        # processing...\n",
        "        with lock:\n",
        "            print(f'in {current_thread().name} got {value}')\n",
        "        q.task_done()"
      ],
      "execution_count": 71,
      "outputs": []
    },
    {
      "cell_type": "code",
      "metadata": {
        "id": "GUr1uPGcpz6Q",
        "colab_type": "code",
        "colab": {
          "base_uri": "https://localhost:8080/",
          "height": 374
        },
        "outputId": "2eef29f3-d4d1-4d8b-e51d-93e1708451c2"
      },
      "source": [
        "if __name__ == \"__main__\":\n",
        "    \n",
        "    q = Queue()\n",
        "    lock=Lock()\n",
        "    num_threads = 10\n",
        "\n",
        "    for i in range(num_threads):\n",
        "        thread = Thread(target=worker, args=(q, lock))\n",
        "        thread.daemon=True\n",
        "        thread.start()\n",
        "\n",
        "    for i in range(1, 21):\n",
        "        q.put(i)\n",
        "    \n",
        "    q.join()\n",
        "\n",
        "    print('end main')"
      ],
      "execution_count": 72,
      "outputs": [
        {
          "output_type": "stream",
          "text": [
            "in Thread-90 got 1\n",
            "in Thread-94 got 2\n",
            "in Thread-94 got 12\n",
            "in Thread-96 got 4\n",
            "in Thread-96 got 14\n",
            "in Thread-98 got 6\n",
            "in Thread-98 got 16\n",
            "in Thread-91 got 8\n",
            "in Thread-91 got 18\n",
            "in Thread-91 got 19\n",
            "in Thread-91 got 20\n",
            "in Thread-94 got 13\n",
            "in Thread-95 got 3\n",
            "in Thread-96 got 15\n",
            "in Thread-97 got 5\n",
            "in Thread-98 got 17\n",
            "in Thread-99 got 7\n",
            "in Thread-90 got 11\n",
            "in Thread-93 got 10\n",
            "in Thread-92 got 9\n",
            "end main\n"
          ],
          "name": "stdout"
        }
      ]
    }
  ]
}