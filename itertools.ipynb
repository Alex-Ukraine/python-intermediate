{
  "nbformat": 4,
  "nbformat_minor": 0,
  "metadata": {
    "colab": {
      "name": "itertools.ipynb",
      "provenance": [],
      "authorship_tag": "ABX9TyOxznm9UjgPLlXTPwSZgizZ",
      "include_colab_link": true
    },
    "kernelspec": {
      "name": "python3",
      "display_name": "Python 3"
    }
  },
  "cells": [
    {
      "cell_type": "markdown",
      "metadata": {
        "id": "view-in-github",
        "colab_type": "text"
      },
      "source": [
        "<a href=\"https://colab.research.google.com/github/Alex-Ukraine/python-intermediate/blob/master/itertools.ipynb\" target=\"_parent\"><img src=\"https://colab.research.google.com/assets/colab-badge.svg\" alt=\"Open In Colab\"/></a>"
      ]
    },
    {
      "cell_type": "markdown",
      "metadata": {
        "id": "6IAEtgVQ5v_o",
        "colab_type": "text"
      },
      "source": [
        "# tertools: product, permutations, combinations, accumulate, groupby, and infinite iterators"
      ]
    },
    {
      "cell_type": "code",
      "metadata": {
        "id": "2GRVvYd75n8u",
        "colab_type": "code",
        "colab": {}
      },
      "source": [
        "from itertools import product, permutations, combinations, combinations_with_replacement, accumulate, groupby, count, cycle, repeat"
      ],
      "execution_count": 36,
      "outputs": []
    },
    {
      "cell_type": "code",
      "metadata": {
        "id": "iYtKoDFa_kGL",
        "colab_type": "code",
        "colab": {}
      },
      "source": [
        "import operator"
      ],
      "execution_count": 25,
      "outputs": []
    },
    {
      "cell_type": "code",
      "metadata": {
        "id": "3jxvQSRT6LJQ",
        "colab_type": "code",
        "colab": {}
      },
      "source": [
        "a = [1, 2]"
      ],
      "execution_count": 3,
      "outputs": []
    },
    {
      "cell_type": "code",
      "metadata": {
        "id": "PfSM6eRd6M1I",
        "colab_type": "code",
        "colab": {}
      },
      "source": [
        "b = [3, 4]"
      ],
      "execution_count": 4,
      "outputs": []
    },
    {
      "cell_type": "code",
      "metadata": {
        "id": "f9XfluH86Own",
        "colab_type": "code",
        "colab": {
          "base_uri": "https://localhost:8080/",
          "height": 34
        },
        "outputId": "f6822755-bec8-4a59-f1d5-5258e7d165ee"
      },
      "source": [
        "prod = product(a, b)\n",
        "print(prod)"
      ],
      "execution_count": 5,
      "outputs": [
        {
          "output_type": "stream",
          "text": [
            "<itertools.product object at 0x7fd369036480>\n"
          ],
          "name": "stdout"
        }
      ]
    },
    {
      "cell_type": "code",
      "metadata": {
        "id": "cPn7TbqN6cAH",
        "colab_type": "code",
        "colab": {
          "base_uri": "https://localhost:8080/",
          "height": 34
        },
        "outputId": "7b9167a8-9511-4056-aa7c-f953457b8721"
      },
      "source": [
        "print(list(prod))"
      ],
      "execution_count": 6,
      "outputs": [
        {
          "output_type": "stream",
          "text": [
            "[(1, 3), (1, 4), (2, 3), (2, 4)]\n"
          ],
          "name": "stdout"
        }
      ]
    },
    {
      "cell_type": "code",
      "metadata": {
        "id": "3XPDQ4SN61jA",
        "colab_type": "code",
        "colab": {
          "base_uri": "https://localhost:8080/",
          "height": 34
        },
        "outputId": "60097d95-62ee-4dcf-bc5e-a598a54072ec"
      },
      "source": [
        "b = [3]\n",
        "prod = product(a, b, repeat=2)\n",
        "print(list(prod))"
      ],
      "execution_count": 7,
      "outputs": [
        {
          "output_type": "stream",
          "text": [
            "[(1, 3, 1, 3), (1, 3, 2, 3), (2, 3, 1, 3), (2, 3, 2, 3)]\n"
          ],
          "name": "stdout"
        }
      ]
    },
    {
      "cell_type": "code",
      "metadata": {
        "id": "5ULG2GEI74HQ",
        "colab_type": "code",
        "colab": {
          "base_uri": "https://localhost:8080/",
          "height": 34
        },
        "outputId": "75d5e9c2-3438-409a-e113-6630e96fb888"
      },
      "source": [
        "a = [1, 2, 3]\n",
        "perm = permutations(a)\n",
        "print(list(perm))"
      ],
      "execution_count": 9,
      "outputs": [
        {
          "output_type": "stream",
          "text": [
            "[(1, 2, 3), (1, 3, 2), (2, 1, 3), (2, 3, 1), (3, 1, 2), (3, 2, 1)]\n"
          ],
          "name": "stdout"
        }
      ]
    },
    {
      "cell_type": "code",
      "metadata": {
        "id": "fBLjTUfW8Pwg",
        "colab_type": "code",
        "colab": {
          "base_uri": "https://localhost:8080/",
          "height": 34
        },
        "outputId": "c21ee8cf-a3e5-45bc-fa76-2ced79432852"
      },
      "source": [
        "perm = permutations(a, 2)\n",
        "print(list(perm))"
      ],
      "execution_count": 10,
      "outputs": [
        {
          "output_type": "stream",
          "text": [
            "[(1, 2), (1, 3), (2, 1), (2, 3), (3, 1), (3, 2)]\n"
          ],
          "name": "stdout"
        }
      ]
    },
    {
      "cell_type": "code",
      "metadata": {
        "id": "MTkEMapo8tlo",
        "colab_type": "code",
        "colab": {
          "base_uri": "https://localhost:8080/",
          "height": 34
        },
        "outputId": "e74a8846-cc6b-4da1-b711-4976f3fa0df7"
      },
      "source": [
        "a= [1, 2, 3, 4]\n",
        "comb = combinations(a, 2)\n",
        "print(list(comb))"
      ],
      "execution_count": 18,
      "outputs": [
        {
          "output_type": "stream",
          "text": [
            "[(1, 2), (1, 3), (1, 4), (2, 3), (2, 4), (3, 4)]\n"
          ],
          "name": "stdout"
        }
      ]
    },
    {
      "cell_type": "code",
      "metadata": {
        "id": "BMYveB1P9ZOD",
        "colab_type": "code",
        "colab": {
          "base_uri": "https://localhost:8080/",
          "height": 34
        },
        "outputId": "176a82f3-7088-4df7-979c-284aa605bca0"
      },
      "source": [
        "a = [1, 2, 3, 4]\n",
        "comb_wr = combinations_with_replacement(a, 2)\n",
        "print(list(comb_wr))"
      ],
      "execution_count": 22,
      "outputs": [
        {
          "output_type": "stream",
          "text": [
            "[(1, 1), (1, 2), (1, 3), (1, 4), (2, 2), (2, 3), (2, 4), (3, 3), (3, 4), (4, 4)]\n"
          ],
          "name": "stdout"
        }
      ]
    },
    {
      "cell_type": "code",
      "metadata": {
        "id": "U88q359890lk",
        "colab_type": "code",
        "colab": {
          "base_uri": "https://localhost:8080/",
          "height": 51
        },
        "outputId": "e1aca8eb-2c3c-4f45-d667-ad7381992d4f"
      },
      "source": [
        "a = [1, 2, 3, 4]\n",
        "acc = accumulate(a)\n",
        "print(a)\n",
        "print(list(acc))"
      ],
      "execution_count": 24,
      "outputs": [
        {
          "output_type": "stream",
          "text": [
            "[1, 2, 3, 4]\n",
            "[1, 3, 6, 10]\n"
          ],
          "name": "stdout"
        }
      ]
    },
    {
      "cell_type": "code",
      "metadata": {
        "id": "OzWnljmp_nVp",
        "colab_type": "code",
        "colab": {
          "base_uri": "https://localhost:8080/",
          "height": 51
        },
        "outputId": "80801111-ec83-4db9-9b64-26b29916c1a3"
      },
      "source": [
        "a = [1, 2, 3, 4]\n",
        "acc = accumulate(a, func=operator.mul)\n",
        "print(a)\n",
        "print(list(acc))"
      ],
      "execution_count": 26,
      "outputs": [
        {
          "output_type": "stream",
          "text": [
            "[1, 2, 3, 4]\n",
            "[1, 2, 6, 24]\n"
          ],
          "name": "stdout"
        }
      ]
    },
    {
      "cell_type": "code",
      "metadata": {
        "id": "6KoDOVvQ_0Vp",
        "colab_type": "code",
        "colab": {
          "base_uri": "https://localhost:8080/",
          "height": 51
        },
        "outputId": "3cf7a275-08b7-4e63-fc88-a9a63e38b81a"
      },
      "source": [
        "a = [1, 2, 5, 3, 4]\n",
        "acc = accumulate(a, func=max)\n",
        "print(a)\n",
        "print(list(acc))"
      ],
      "execution_count": 28,
      "outputs": [
        {
          "output_type": "stream",
          "text": [
            "[1, 2, 5, 3, 4]\n",
            "[1, 2, 5, 5, 5]\n"
          ],
          "name": "stdout"
        }
      ]
    },
    {
      "cell_type": "code",
      "metadata": {
        "id": "iaZOKnYOAMtp",
        "colab_type": "code",
        "colab": {}
      },
      "source": [
        "def smaller_than_3(x):\n",
        "    return x < 3"
      ],
      "execution_count": 31,
      "outputs": []
    },
    {
      "cell_type": "code",
      "metadata": {
        "id": "kC-l_Sp8AtiB",
        "colab_type": "code",
        "colab": {
          "base_uri": "https://localhost:8080/",
          "height": 51
        },
        "outputId": "3b57b911-3c84-4c1a-825b-535e73af820b"
      },
      "source": [
        "a = [1, 2, 3, 4]\n",
        "group_obj = groupby(a, key=smaller_than_3)\n",
        "for key, value in group_obj:\n",
        "    print(key, list(value))"
      ],
      "execution_count": 32,
      "outputs": [
        {
          "output_type": "stream",
          "text": [
            "True [1, 2]\n",
            "False [3, 4]\n"
          ],
          "name": "stdout"
        }
      ]
    },
    {
      "cell_type": "code",
      "metadata": {
        "id": "HgTiG6N-BT2h",
        "colab_type": "code",
        "colab": {
          "base_uri": "https://localhost:8080/",
          "height": 51
        },
        "outputId": "96e27dbc-4eae-43f9-882d-c6a038578e2c"
      },
      "source": [
        "a = [1, 2, 3, 4]\n",
        "group_obj = groupby(a, key=lambda x: x < 3)\n",
        "for key, value in group_obj:\n",
        "    print(key, list(value))"
      ],
      "execution_count": 33,
      "outputs": [
        {
          "output_type": "stream",
          "text": [
            "True [1, 2]\n",
            "False [3, 4]\n"
          ],
          "name": "stdout"
        }
      ]
    },
    {
      "cell_type": "code",
      "metadata": {
        "id": "qJ3vldrBBgma",
        "colab_type": "code",
        "colab": {}
      },
      "source": [
        "persons = [{'name': 'Tim', 'age': 25}, {'name': 'Dan', 'age': 25},\n",
        "           {'name': 'Lisa', 'age': 27}, {'name': 'Claire', 'age': 28},]"
      ],
      "execution_count": 34,
      "outputs": []
    },
    {
      "cell_type": "code",
      "metadata": {
        "id": "XQysK0I8JOrW",
        "colab_type": "code",
        "colab": {
          "base_uri": "https://localhost:8080/",
          "height": 68
        },
        "outputId": "6f5d1144-9005-4f41-e394-846920553a4a"
      },
      "source": [
        "group_obj = groupby(persons, key=lambda x: x['age'])\n",
        "for key, value in group_obj:\n",
        "    print(key, list(value))"
      ],
      "execution_count": 35,
      "outputs": [
        {
          "output_type": "stream",
          "text": [
            "25 [{'name': 'Tim', 'age': 25}, {'name': 'Dan', 'age': 25}]\n",
            "27 [{'name': 'Lisa', 'age': 27}]\n",
            "28 [{'name': 'Claire', 'age': 28}]\n"
          ],
          "name": "stdout"
        }
      ]
    },
    {
      "cell_type": "code",
      "metadata": {
        "id": "w59u0dw8KEG7",
        "colab_type": "code",
        "colab": {
          "base_uri": "https://localhost:8080/",
          "height": 170
        },
        "outputId": "9af7f2f4-0af0-4659-fa93-6aab4e72dc42"
      },
      "source": [
        "for i in count(7):\n",
        "    print(i)\n",
        "    if i == 15:\n",
        "        break"
      ],
      "execution_count": 38,
      "outputs": [
        {
          "output_type": "stream",
          "text": [
            "7\n",
            "8\n",
            "9\n",
            "10\n",
            "11\n",
            "12\n",
            "13\n",
            "14\n",
            "15\n"
          ],
          "name": "stdout"
        }
      ]
    },
    {
      "cell_type": "code",
      "metadata": {
        "id": "pJbyQIQfKdkL",
        "colab_type": "code",
        "colab": {}
      },
      "source": [
        "a = [1, 2, 3]\n",
        "for i in cycle(a):\n",
        "    print(i)"
      ],
      "execution_count": null,
      "outputs": []
    },
    {
      "cell_type": "code",
      "metadata": {
        "id": "_K2Xfm-WK9YD",
        "colab_type": "code",
        "colab": {
          "base_uri": "https://localhost:8080/",
          "height": 85
        },
        "outputId": "4d05ae9e-c958-4ef1-f4a2-b26264afe590"
      },
      "source": [
        "for i in repeat(1, 4):\n",
        "    print(i)"
      ],
      "execution_count": 43,
      "outputs": [
        {
          "output_type": "stream",
          "text": [
            "1\n",
            "1\n",
            "1\n",
            "1\n"
          ],
          "name": "stdout"
        }
      ]
    }
  ]
}