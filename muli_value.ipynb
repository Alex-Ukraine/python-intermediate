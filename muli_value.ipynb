{
  "nbformat": 4,
  "nbformat_minor": 0,
  "metadata": {
    "colab": {
      "name": "muli-value.ipynb",
      "provenance": [],
      "authorship_tag": "ABX9TyMqAGQR2NDGtdMAtIqKJloT",
      "include_colab_link": true
    },
    "kernelspec": {
      "name": "python3",
      "display_name": "Python 3"
    }
  },
  "cells": [
    {
      "cell_type": "markdown",
      "metadata": {
        "id": "view-in-github",
        "colab_type": "text"
      },
      "source": [
        "<a href=\"https://colab.research.google.com/github/Alex-Ukraine/python-intermediate/blob/master/muli_value.ipynb\" target=\"_parent\"><img src=\"https://colab.research.google.com/assets/colab-badge.svg\" alt=\"Open In Colab\"/></a>"
      ]
    },
    {
      "cell_type": "code",
      "metadata": {
        "id": "LF1CU99da8hE",
        "colab_type": "code",
        "colab": {}
      },
      "source": [
        "from multiprocessing import Process, Value, Array, Lock\n",
        "import time"
      ],
      "execution_count": 14,
      "outputs": []
    },
    {
      "cell_type": "code",
      "metadata": {
        "id": "MFpp2PKxb_Zs",
        "colab_type": "code",
        "colab": {
          "base_uri": "https://localhost:8080/",
          "height": 51
        },
        "outputId": "0d8e8785-038a-4e5d-fe56-a918797dd85f"
      },
      "source": [
        "def add_100(number, lock):\n",
        "    for i in range(100):\n",
        "        time.sleep(0.01)\n",
        "        with lock:\n",
        "            number.value += 1\n",
        "\n",
        "if __name__ == '__main__':\n",
        "\n",
        "    lock = Lock()\n",
        "    shared_number = Value('i', 0)\n",
        "    print('Number at beginning is', shared_number.value)\n",
        "\n",
        "    p1 = Process(target=add_100, args=(shared_number, lock))\n",
        "    p2 = Process(target=add_100, args=(shared_number, lock))\n",
        "\n",
        "    p1.start()\n",
        "    p2.start()\n",
        "\n",
        "    p1.join()\n",
        "    p2.join()\n",
        "\n",
        "    print('number at end is', shared_number.value)"
      ],
      "execution_count": 15,
      "outputs": [
        {
          "output_type": "stream",
          "text": [
            "Number at beginning is 0\n",
            "number at end is 200\n"
          ],
          "name": "stdout"
        }
      ]
    }
  ]
}