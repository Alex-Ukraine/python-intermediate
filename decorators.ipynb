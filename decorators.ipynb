{
  "nbformat": 4,
  "nbformat_minor": 0,
  "metadata": {
    "colab": {
      "name": "decorators.ipynb",
      "provenance": [],
      "authorship_tag": "ABX9TyPQ2yCYlsdfiLwtdjvZOjz6",
      "include_colab_link": true
    },
    "kernelspec": {
      "name": "python3",
      "display_name": "Python 3"
    }
  },
  "cells": [
    {
      "cell_type": "markdown",
      "metadata": {
        "id": "view-in-github",
        "colab_type": "text"
      },
      "source": [
        "<a href=\"https://colab.research.google.com/github/Alex-Ukraine/python-intermediate/blob/master/decorators.ipynb\" target=\"_parent\"><img src=\"https://colab.research.google.com/assets/colab-badge.svg\" alt=\"Open In Colab\"/></a>"
      ]
    },
    {
      "cell_type": "code",
      "metadata": {
        "id": "UrxVPYLzE6CS",
        "colab_type": "code",
        "colab": {}
      },
      "source": [
        "import functools"
      ],
      "execution_count": 42,
      "outputs": []
    },
    {
      "cell_type": "code",
      "metadata": {
        "id": "8VaC51c7BxBj",
        "colab_type": "code",
        "colab": {}
      },
      "source": [
        "def start_end_decorator(func):\n",
        "\n",
        "    @functools.wraps(func)\n",
        "    def wrapper(*args, **kwargs):\n",
        "        print('Start')\n",
        "        result = func(*args, **kwargs)\n",
        "        print('End')\n",
        "        return result\n",
        "    return wrapper"
      ],
      "execution_count": 43,
      "outputs": []
    },
    {
      "cell_type": "code",
      "metadata": {
        "id": "_M2KzA8SQxn2",
        "colab_type": "code",
        "colab": {}
      },
      "source": [
        "# Template for a nice decorator\n",
        "# def start_end_decorator(func):\n",
        "\n",
        "#     @functools.wraps(func)\n",
        "#     def wrapper(*args, **kwargs):\n",
        "#         # Do...\n",
        "#         result = func(*args, **kwargs)\n",
        "#         # Do ...\n",
        "#         return result\n",
        "#     return wrapper"
      ],
      "execution_count": null,
      "outputs": []
    },
    {
      "cell_type": "code",
      "metadata": {
        "id": "I9fYtoWeCQCs",
        "colab_type": "code",
        "colab": {}
      },
      "source": [
        "# @start_end_decorator\n",
        "# def print_name():\n",
        "#     print('Alex')"
      ],
      "execution_count": 44,
      "outputs": []
    },
    {
      "cell_type": "code",
      "metadata": {
        "id": "TTl2yLGxDXuA",
        "colab_type": "code",
        "colab": {}
      },
      "source": [
        "@start_end_decorator\n",
        "def add5(x):\n",
        "    return x + 5"
      ],
      "execution_count": 45,
      "outputs": []
    },
    {
      "cell_type": "code",
      "metadata": {
        "id": "CoBudS8bCRpJ",
        "colab_type": "code",
        "colab": {}
      },
      "source": [
        "#print_name = start_end_decorator(print_name)\n",
        "#print_name()"
      ],
      "execution_count": 46,
      "outputs": []
    },
    {
      "cell_type": "code",
      "metadata": {
        "id": "NOWg9VfkDlt6",
        "colab_type": "code",
        "colab": {
          "base_uri": "https://localhost:8080/",
          "height": 68
        },
        "outputId": "4202f6b2-3694-47a3-b2f8-cfcda4550a9f"
      },
      "source": [
        "result = add5(10)\n",
        "print(result)"
      ],
      "execution_count": 47,
      "outputs": [
        {
          "output_type": "stream",
          "text": [
            "Start\n",
            "End\n",
            "15\n"
          ],
          "name": "stdout"
        }
      ]
    }
  ]
}