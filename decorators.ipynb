{
  "nbformat": 4,
  "nbformat_minor": 0,
  "metadata": {
    "colab": {
      "name": "decorators.ipynb",
      "provenance": [],
      "authorship_tag": "ABX9TyM3NAhcKup9DLXVH47tRvrI",
      "include_colab_link": true
    },
    "kernelspec": {
      "name": "python3",
      "display_name": "Python 3"
    }
  },
  "cells": [
    {
      "cell_type": "markdown",
      "metadata": {
        "id": "view-in-github",
        "colab_type": "text"
      },
      "source": [
        "<a href=\"https://colab.research.google.com/github/Alex-Ukraine/python-intermediate/blob/master/decorators.ipynb\" target=\"_parent\"><img src=\"https://colab.research.google.com/assets/colab-badge.svg\" alt=\"Open In Colab\"/></a>"
      ]
    },
    {
      "cell_type": "code",
      "metadata": {
        "id": "UrxVPYLzE6CS",
        "colab_type": "code",
        "colab": {}
      },
      "source": [
        "import functools"
      ],
      "execution_count": 88,
      "outputs": []
    },
    {
      "cell_type": "code",
      "metadata": {
        "id": "8VaC51c7BxBj",
        "colab_type": "code",
        "colab": {}
      },
      "source": [
        "def start_end_decorator(func):\n",
        "\n",
        "    @functools.wraps(func)\n",
        "    def wrapper(*args, **kwargs):\n",
        "        print('Start')\n",
        "        result = func(*args, **kwargs)\n",
        "        print('End')\n",
        "        return result\n",
        "    return wrapper"
      ],
      "execution_count": 89,
      "outputs": []
    },
    {
      "cell_type": "code",
      "metadata": {
        "id": "_M2KzA8SQxn2",
        "colab_type": "code",
        "colab": {}
      },
      "source": [
        "# Template for a nice decorator\n",
        "# def start_end_decorator(func):\n",
        "\n",
        "#     @functools.wraps(func)\n",
        "#     def wrapper(*args, **kwargs):\n",
        "#         # Do...\n",
        "#         result = func(*args, **kwargs)\n",
        "#         # Do ...\n",
        "#         return result\n",
        "#     return wrapper"
      ],
      "execution_count": 90,
      "outputs": []
    },
    {
      "cell_type": "code",
      "metadata": {
        "id": "I9fYtoWeCQCs",
        "colab_type": "code",
        "colab": {}
      },
      "source": [
        "# @start_end_decorator\n",
        "# def print_name():\n",
        "#     print('Alex')"
      ],
      "execution_count": 91,
      "outputs": []
    },
    {
      "cell_type": "code",
      "metadata": {
        "id": "TTl2yLGxDXuA",
        "colab_type": "code",
        "colab": {}
      },
      "source": [
        "@start_end_decorator\n",
        "def add5(x):\n",
        "    return x + 5"
      ],
      "execution_count": 92,
      "outputs": []
    },
    {
      "cell_type": "code",
      "metadata": {
        "id": "CoBudS8bCRpJ",
        "colab_type": "code",
        "colab": {}
      },
      "source": [
        "#print_name = start_end_decorator(print_name)\n",
        "#print_name()"
      ],
      "execution_count": 93,
      "outputs": []
    },
    {
      "cell_type": "code",
      "metadata": {
        "id": "NOWg9VfkDlt6",
        "colab_type": "code",
        "colab": {
          "base_uri": "https://localhost:8080/",
          "height": 68
        },
        "outputId": "cf005a2d-46ea-4cf3-bbed-5f6dd72a5b2b"
      },
      "source": [
        "result = add5(10)\n",
        "print(result)"
      ],
      "execution_count": 94,
      "outputs": [
        {
          "output_type": "stream",
          "text": [
            "Start\n",
            "End\n",
            "15\n"
          ],
          "name": "stdout"
        }
      ]
    },
    {
      "cell_type": "code",
      "metadata": {
        "id": "AxXYCEfCR7St",
        "colab_type": "code",
        "colab": {
          "base_uri": "https://localhost:8080/",
          "height": 85
        },
        "outputId": "21e1e22f-51f2-4758-bc91-8b2158f1dacf"
      },
      "source": [
        "def repeat(num_times):\n",
        "    def decorator_repeat(func):\n",
        "        @functools.wraps(func)\n",
        "        def wrapper(*args, **kwargs):\n",
        "            for _ in range(num_times):\n",
        "                result = func(*args, **kwargs)\n",
        "            return result\n",
        "        return wrapper\n",
        "    return decorator_repeat\n",
        "  \n",
        "@repeat(num_times=4)\n",
        "def greet(name):\n",
        "    print(f\"Hello {name}\")\n",
        "\n",
        "greet('Alex')"
      ],
      "execution_count": 95,
      "outputs": [
        {
          "output_type": "stream",
          "text": [
            "Hello Alex\n",
            "Hello Alex\n",
            "Hello Alex\n",
            "Hello Alex\n"
          ],
          "name": "stdout"
        }
      ]
    },
    {
      "cell_type": "code",
      "metadata": {
        "id": "BV7ibDTnVGjr",
        "colab_type": "code",
        "colab": {}
      },
      "source": [
        "def debug(func):\n",
        "    @functools.wraps(func)\n",
        "    def wrapper(*args, **kwargs):\n",
        "        args_repr = [repr(a) for a in args]\n",
        "        kwargs_repr = [f\"{k}={v!r}\" for k, v in kwargs.items()]\n",
        "        signature = \", \".join(args_repr + kwargs_repr)\n",
        "        print(f\"Calling {func.__name__}({signature})\")\n",
        "        result = func(*args, **kwargs)\n",
        "        print(f\"{func.__name__!r} returned {result!r}\")\n",
        "        return result\n",
        "    return wrapper"
      ],
      "execution_count": 99,
      "outputs": []
    },
    {
      "cell_type": "code",
      "metadata": {
        "id": "UZbPRlY4U0CN",
        "colab_type": "code",
        "colab": {}
      },
      "source": [
        "@debug\n",
        "@start_end_decorator\n",
        "def say_hello(name):\n",
        "    greeting = f'Hello {name}'\n",
        "    print(greeting)\n",
        "    return greeting"
      ],
      "execution_count": 100,
      "outputs": []
    },
    {
      "cell_type": "code",
      "metadata": {
        "id": "i4hXf0sTWaJ1",
        "colab_type": "code",
        "colab": {
          "base_uri": "https://localhost:8080/",
          "height": 120
        },
        "outputId": "82f65bad-e2b0-47e8-8bcd-ae9c681e9482"
      },
      "source": [
        "say_hello('Dmitrii')"
      ],
      "execution_count": 101,
      "outputs": [
        {
          "output_type": "stream",
          "text": [
            "Calling say_hello('Dmitrii')\n",
            "Start\n",
            "Hello Dmitrii\n",
            "End\n",
            "'say_hello' returned 'Hello Dmitrii'\n"
          ],
          "name": "stdout"
        },
        {
          "output_type": "execute_result",
          "data": {
            "application/vnd.google.colaboratory.intrinsic+json": {
              "type": "string"
            },
            "text/plain": [
              "'Hello Dmitrii'"
            ]
          },
          "metadata": {
            "tags": []
          },
          "execution_count": 101
        }
      ]
    },
    {
      "cell_type": "code",
      "metadata": {
        "id": "xedQhsCyX21k",
        "colab_type": "code",
        "colab": {}
      },
      "source": [
        "class CountCalls:\n",
        "\n",
        "    def __init__(self, func):\n",
        "        self.func = func\n",
        "        self.num_calls = 0\n",
        "\n",
        "    def __call__(self, *args, **kwargs):\n",
        "        self.num_calls +=1\n",
        "        print(f'This is executed {self.num_calls} times')\n",
        "        return self.func(*args, **kwargs)     "
      ],
      "execution_count": 107,
      "outputs": []
    },
    {
      "cell_type": "code",
      "metadata": {
        "id": "iDYoyQIeY0-W",
        "colab_type": "code",
        "colab": {}
      },
      "source": [
        "@CountCalls\n",
        "def say_hello():\n",
        "    print('Hello')"
      ],
      "execution_count": 108,
      "outputs": []
    },
    {
      "cell_type": "code",
      "metadata": {
        "id": "h7KL3cPwZKPc",
        "colab_type": "code",
        "colab": {
          "base_uri": "https://localhost:8080/",
          "height": 153
        },
        "outputId": "02c16f4e-eb75-49ce-8c42-70a2f00cb979"
      },
      "source": [
        "say_hello()\n",
        "say_hello()\n",
        "say_hello()\n",
        "say_hello()"
      ],
      "execution_count": 109,
      "outputs": [
        {
          "output_type": "stream",
          "text": [
            "This is executed 1 times\n",
            "Hello\n",
            "This is executed 2 times\n",
            "Hello\n",
            "This is executed 3 times\n",
            "Hello\n",
            "This is executed 4 times\n",
            "Hello\n"
          ],
          "name": "stdout"
        }
      ]
    }
  ]
}