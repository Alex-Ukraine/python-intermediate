{
  "nbformat": 4,
  "nbformat_minor": 0,
  "metadata": {
    "colab": {
      "name": "collections.ipynb",
      "provenance": [],
      "authorship_tag": "ABX9TyPq8qd6OqrslBzN+O7mk9Hc",
      "include_colab_link": true
    },
    "kernelspec": {
      "name": "python3",
      "display_name": "Python 3"
    }
  },
  "cells": [
    {
      "cell_type": "markdown",
      "metadata": {
        "id": "view-in-github",
        "colab_type": "text"
      },
      "source": [
        "<a href=\"https://colab.research.google.com/github/Alex-Ukraine/python-intermediate/blob/master/collections.ipynb\" target=\"_parent\"><img src=\"https://colab.research.google.com/assets/colab-badge.svg\" alt=\"Open In Colab\"/></a>"
      ]
    },
    {
      "cell_type": "markdown",
      "metadata": {
        "id": "zYT4S3uOmqRv",
        "colab_type": "text"
      },
      "source": [
        "# collections: Counter, nametuple, OrderedDict, defaultdict, deque\n"
      ]
    },
    {
      "cell_type": "code",
      "metadata": {
        "id": "3JH10co3mmnc",
        "colab_type": "code",
        "colab": {}
      },
      "source": [
        "from collections import Counter, namedtuple, OrderedDict, defaultdict, deque"
      ],
      "execution_count": 33,
      "outputs": []
    },
    {
      "cell_type": "code",
      "metadata": {
        "id": "09nE1K1UnBzG",
        "colab_type": "code",
        "colab": {}
      },
      "source": [
        "a = \"aaaaaaaabbbbbccc\""
      ],
      "execution_count": 2,
      "outputs": []
    },
    {
      "cell_type": "code",
      "metadata": {
        "id": "P91XIK6InGWt",
        "colab_type": "code",
        "colab": {}
      },
      "source": [
        "my_counter = Counter(a)"
      ],
      "execution_count": 3,
      "outputs": []
    },
    {
      "cell_type": "code",
      "metadata": {
        "id": "akVE0Sd5nJnN",
        "colab_type": "code",
        "colab": {
          "base_uri": "https://localhost:8080/",
          "height": 34
        },
        "outputId": "41c840e0-b9bb-4e52-e962-cd4435002f79"
      },
      "source": [
        "print(my_counter)"
      ],
      "execution_count": 4,
      "outputs": [
        {
          "output_type": "stream",
          "text": [
            "Counter({'a': 8, 'b': 5, 'c': 3})\n"
          ],
          "name": "stdout"
        }
      ]
    },
    {
      "cell_type": "code",
      "metadata": {
        "id": "U2t90xrXnfxN",
        "colab_type": "code",
        "colab": {
          "base_uri": "https://localhost:8080/",
          "height": 34
        },
        "outputId": "c37287dd-9f69-4b82-a7ec-f9fbf8abbfe5"
      },
      "source": [
        "print(my_counter.most_common(1))"
      ],
      "execution_count": 6,
      "outputs": [
        {
          "output_type": "stream",
          "text": [
            "[('a', 8)]\n"
          ],
          "name": "stdout"
        }
      ]
    },
    {
      "cell_type": "code",
      "metadata": {
        "id": "zbmaFutDnmnl",
        "colab_type": "code",
        "colab": {
          "base_uri": "https://localhost:8080/",
          "height": 34
        },
        "outputId": "eb6ad837-05d3-4270-e2cf-88955fb5dbae"
      },
      "source": [
        "print(my_counter.most_common(1)[0][0])"
      ],
      "execution_count": 7,
      "outputs": [
        {
          "output_type": "stream",
          "text": [
            "a\n"
          ],
          "name": "stdout"
        }
      ]
    },
    {
      "cell_type": "code",
      "metadata": {
        "id": "JvQzmkd4nM0F",
        "colab_type": "code",
        "colab": {
          "base_uri": "https://localhost:8080/",
          "height": 34
        },
        "outputId": "9302a2b7-6bfc-4140-9b90-83471e8ae55e"
      },
      "source": [
        "print(my_counter.elements())"
      ],
      "execution_count": 5,
      "outputs": [
        {
          "output_type": "stream",
          "text": [
            "<itertools.chain object at 0x7fda846c0ba8>\n"
          ],
          "name": "stdout"
        }
      ]
    },
    {
      "cell_type": "code",
      "metadata": {
        "id": "dgMN6FmznvJ9",
        "colab_type": "code",
        "colab": {
          "base_uri": "https://localhost:8080/",
          "height": 34
        },
        "outputId": "95784c2a-2cc0-42a6-877a-51b38dbf3159"
      },
      "source": [
        "print(list(my_counter.elements()))"
      ],
      "execution_count": 8,
      "outputs": [
        {
          "output_type": "stream",
          "text": [
            "['a', 'a', 'a', 'a', 'a', 'a', 'a', 'a', 'b', 'b', 'b', 'b', 'b', 'c', 'c', 'c']\n"
          ],
          "name": "stdout"
        }
      ]
    },
    {
      "cell_type": "code",
      "metadata": {
        "id": "zqXpoqtdoQsW",
        "colab_type": "code",
        "colab": {}
      },
      "source": [
        "Point = namedtuple('Point', 'x,y')"
      ],
      "execution_count": 11,
      "outputs": []
    },
    {
      "cell_type": "code",
      "metadata": {
        "id": "Y7QFTTmJoYbG",
        "colab_type": "code",
        "colab": {}
      },
      "source": [
        "pt = Point(1, -4)"
      ],
      "execution_count": 13,
      "outputs": []
    },
    {
      "cell_type": "code",
      "metadata": {
        "id": "CbI-wrViocgu",
        "colab_type": "code",
        "colab": {
          "base_uri": "https://localhost:8080/",
          "height": 34
        },
        "outputId": "d7926382-f35c-4063-e3ac-af2be697e554"
      },
      "source": [
        "print(pt)"
      ],
      "execution_count": 14,
      "outputs": [
        {
          "output_type": "stream",
          "text": [
            "Point(x=1, y=-4)\n"
          ],
          "name": "stdout"
        }
      ]
    },
    {
      "cell_type": "markdown",
      "metadata": {
        "id": "vnWmaB44qPk9",
        "colab_type": "text"
      },
      "source": [
        ""
      ]
    },
    {
      "cell_type": "code",
      "metadata": {
        "id": "QStVqYtlouxW",
        "colab_type": "code",
        "colab": {
          "base_uri": "https://localhost:8080/",
          "height": 34
        },
        "outputId": "7f9b59d8-134b-4732-9afd-bb23ac0e00d5"
      },
      "source": [
        "print(pt.x, pt.y)"
      ],
      "execution_count": 15,
      "outputs": [
        {
          "output_type": "stream",
          "text": [
            "1 -4\n"
          ],
          "name": "stdout"
        }
      ]
    },
    {
      "cell_type": "code",
      "metadata": {
        "id": "VwpMzRabpn42",
        "colab_type": "code",
        "colab": {}
      },
      "source": [
        "ordered_dict = OrderedDict()"
      ],
      "execution_count": 18,
      "outputs": []
    },
    {
      "cell_type": "code",
      "metadata": {
        "id": "yZUCbpTCpwrG",
        "colab_type": "code",
        "colab": {}
      },
      "source": [
        "ordered_dict['a'] = 1"
      ],
      "execution_count": 19,
      "outputs": []
    },
    {
      "cell_type": "code",
      "metadata": {
        "id": "IQGZP2pvp04X",
        "colab_type": "code",
        "colab": {}
      },
      "source": [
        "ordered_dict['b'] = 2"
      ],
      "execution_count": 20,
      "outputs": []
    },
    {
      "cell_type": "code",
      "metadata": {
        "id": "037o4lkqp21O",
        "colab_type": "code",
        "colab": {}
      },
      "source": [
        "ordered_dict['c'] = 3"
      ],
      "execution_count": 21,
      "outputs": []
    },
    {
      "cell_type": "code",
      "metadata": {
        "id": "cUb4Uw0kp4nu",
        "colab_type": "code",
        "colab": {}
      },
      "source": [
        "ordered_dict['d'] = 4"
      ],
      "execution_count": 22,
      "outputs": []
    },
    {
      "cell_type": "code",
      "metadata": {
        "id": "cL_xL4Q1p7Jw",
        "colab_type": "code",
        "colab": {
          "base_uri": "https://localhost:8080/",
          "height": 34
        },
        "outputId": "77237fb4-7a4a-4c08-ab13-5659aaeb988f"
      },
      "source": [
        "print(ordered_dict)"
      ],
      "execution_count": 23,
      "outputs": [
        {
          "output_type": "stream",
          "text": [
            "OrderedDict([('a', 1), ('b', 2), ('c', 3), ('d', 4)])\n"
          ],
          "name": "stdout"
        }
      ]
    },
    {
      "cell_type": "code",
      "metadata": {
        "id": "DmJ7mKobqT53",
        "colab_type": "code",
        "colab": {}
      },
      "source": [
        "d = defaultdict(int)"
      ],
      "execution_count": 26,
      "outputs": []
    },
    {
      "cell_type": "code",
      "metadata": {
        "id": "Dr-_oqL_qu9H",
        "colab_type": "code",
        "colab": {}
      },
      "source": [
        "d['a'] = 1"
      ],
      "execution_count": 27,
      "outputs": []
    },
    {
      "cell_type": "code",
      "metadata": {
        "id": "Ttwjv3XBqxSm",
        "colab_type": "code",
        "colab": {}
      },
      "source": [
        "d['b'] = 2"
      ],
      "execution_count": 28,
      "outputs": []
    },
    {
      "cell_type": "code",
      "metadata": {
        "id": "gTrrWHacqz7w",
        "colab_type": "code",
        "colab": {
          "base_uri": "https://localhost:8080/",
          "height": 34
        },
        "outputId": "4be3f8cf-a1e9-4bbb-dda2-19a3143ff2d6"
      },
      "source": [
        "print(d['c'])"
      ],
      "execution_count": 29,
      "outputs": [
        {
          "output_type": "stream",
          "text": [
            "0\n"
          ],
          "name": "stdout"
        }
      ]
    },
    {
      "cell_type": "code",
      "metadata": {
        "id": "ka1OwMyFrJk4",
        "colab_type": "code",
        "colab": {}
      },
      "source": [
        "d2 = defaultdict(list)"
      ],
      "execution_count": 30,
      "outputs": []
    },
    {
      "cell_type": "code",
      "metadata": {
        "id": "wTOLNXcorNNv",
        "colab_type": "code",
        "colab": {}
      },
      "source": [
        "d2['f'] = 4"
      ],
      "execution_count": 31,
      "outputs": []
    },
    {
      "cell_type": "code",
      "metadata": {
        "id": "vU5yeH3-rQpm",
        "colab_type": "code",
        "colab": {
          "base_uri": "https://localhost:8080/",
          "height": 34
        },
        "outputId": "b7626c63-09a7-42f5-92b1-d0c0f0ddffe9"
      },
      "source": [
        "print(d2['h'])"
      ],
      "execution_count": 32,
      "outputs": [
        {
          "output_type": "stream",
          "text": [
            "[]\n"
          ],
          "name": "stdout"
        }
      ]
    },
    {
      "cell_type": "code",
      "metadata": {
        "id": "Wn-xn1oRrtwX",
        "colab_type": "code",
        "colab": {}
      },
      "source": [
        "d = deque()"
      ],
      "execution_count": 34,
      "outputs": []
    },
    {
      "cell_type": "code",
      "metadata": {
        "id": "E0a70HD0rxJZ",
        "colab_type": "code",
        "colab": {}
      },
      "source": [
        "d.append(1)"
      ],
      "execution_count": 35,
      "outputs": []
    },
    {
      "cell_type": "code",
      "metadata": {
        "id": "IHeenbYBr1f_",
        "colab_type": "code",
        "colab": {}
      },
      "source": [
        "d.append(2)"
      ],
      "execution_count": 36,
      "outputs": []
    },
    {
      "cell_type": "code",
      "metadata": {
        "id": "gYyPXkS_r4Ep",
        "colab_type": "code",
        "colab": {}
      },
      "source": [
        "d.appendleft(3)"
      ],
      "execution_count": 37,
      "outputs": []
    },
    {
      "cell_type": "code",
      "metadata": {
        "id": "Ff48TUgcr7Cn",
        "colab_type": "code",
        "colab": {
          "base_uri": "https://localhost:8080/",
          "height": 34
        },
        "outputId": "3b9b9204-aac0-42cb-a140-e9f21baec5b1"
      },
      "source": [
        "print(d)"
      ],
      "execution_count": 38,
      "outputs": [
        {
          "output_type": "stream",
          "text": [
            "deque([3, 1, 2])\n"
          ],
          "name": "stdout"
        }
      ]
    },
    {
      "cell_type": "code",
      "metadata": {
        "id": "NJisXJWmsFMP",
        "colab_type": "code",
        "colab": {
          "base_uri": "https://localhost:8080/",
          "height": 34
        },
        "outputId": "45746ef7-f7d6-4542-8a0d-d88aaae7ffb0"
      },
      "source": [
        "d.pop()"
      ],
      "execution_count": 39,
      "outputs": [
        {
          "output_type": "execute_result",
          "data": {
            "text/plain": [
              "2"
            ]
          },
          "metadata": {
            "tags": []
          },
          "execution_count": 39
        }
      ]
    },
    {
      "cell_type": "code",
      "metadata": {
        "id": "r3uMhAXLsILX",
        "colab_type": "code",
        "colab": {
          "base_uri": "https://localhost:8080/",
          "height": 34
        },
        "outputId": "95f928b9-d035-4adb-c3da-9881c41ee7cc"
      },
      "source": [
        "print(d)"
      ],
      "execution_count": 40,
      "outputs": [
        {
          "output_type": "stream",
          "text": [
            "deque([3, 1])\n"
          ],
          "name": "stdout"
        }
      ]
    },
    {
      "cell_type": "code",
      "metadata": {
        "id": "KccbesnHsL7I",
        "colab_type": "code",
        "colab": {
          "base_uri": "https://localhost:8080/",
          "height": 34
        },
        "outputId": "40108fa1-22c6-41e3-a933-10ba3083c848"
      },
      "source": [
        "d.popleft()"
      ],
      "execution_count": 41,
      "outputs": [
        {
          "output_type": "execute_result",
          "data": {
            "text/plain": [
              "3"
            ]
          },
          "metadata": {
            "tags": []
          },
          "execution_count": 41
        }
      ]
    },
    {
      "cell_type": "code",
      "metadata": {
        "id": "ecBqm6ffsQ5q",
        "colab_type": "code",
        "colab": {
          "base_uri": "https://localhost:8080/",
          "height": 34
        },
        "outputId": "fde26773-5eda-4b9b-d9a0-0f93c8d29802"
      },
      "source": [
        "print(d)"
      ],
      "execution_count": 42,
      "outputs": [
        {
          "output_type": "stream",
          "text": [
            "deque([1])\n"
          ],
          "name": "stdout"
        }
      ]
    },
    {
      "cell_type": "code",
      "metadata": {
        "id": "JbJwnRUu2951",
        "colab_type": "code",
        "colab": {}
      },
      "source": [
        "d.extend([2, 3, 4, 5, 6])"
      ],
      "execution_count": 43,
      "outputs": []
    },
    {
      "cell_type": "code",
      "metadata": {
        "id": "66zR7dg53ELZ",
        "colab_type": "code",
        "colab": {
          "base_uri": "https://localhost:8080/",
          "height": 34
        },
        "outputId": "603dce01-2aa8-4b4f-ee63-d74b427c28aa"
      },
      "source": [
        "print(d)"
      ],
      "execution_count": 44,
      "outputs": [
        {
          "output_type": "stream",
          "text": [
            "deque([1, 2, 3, 4, 5, 6])\n"
          ],
          "name": "stdout"
        }
      ]
    },
    {
      "cell_type": "code",
      "metadata": {
        "id": "zagFFjGV3M_J",
        "colab_type": "code",
        "colab": {}
      },
      "source": [
        "d.extendleft([-2, -1, 0])"
      ],
      "execution_count": 45,
      "outputs": []
    },
    {
      "cell_type": "code",
      "metadata": {
        "id": "SSOXhymH3TI6",
        "colab_type": "code",
        "colab": {
          "base_uri": "https://localhost:8080/",
          "height": 34
        },
        "outputId": "771b581b-bc1a-4a3b-81f4-c8f4c87bd565"
      },
      "source": [
        "print(d)"
      ],
      "execution_count": 46,
      "outputs": [
        {
          "output_type": "stream",
          "text": [
            "deque([0, -1, -2, 1, 2, 3, 4, 5, 6])\n"
          ],
          "name": "stdout"
        }
      ]
    },
    {
      "cell_type": "code",
      "metadata": {
        "id": "x2LZQElb3lGq",
        "colab_type": "code",
        "colab": {
          "base_uri": "https://localhost:8080/",
          "height": 34
        },
        "outputId": "b1fcd7fd-1914-421e-ef3c-f60a4d38d2ac"
      },
      "source": [
        "d.rotate(2)\n",
        "print(d)"
      ],
      "execution_count": 51,
      "outputs": [
        {
          "output_type": "stream",
          "text": [
            "deque([-1, -2, 1, 2, 3, 4, 5, 6, 0])\n"
          ],
          "name": "stdout"
        }
      ]
    }
  ]
}