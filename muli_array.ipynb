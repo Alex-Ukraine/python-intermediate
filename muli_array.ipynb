{
  "nbformat": 4,
  "nbformat_minor": 0,
  "metadata": {
    "colab": {
      "name": "muli-array.ipynb",
      "provenance": [],
      "authorship_tag": "ABX9TyMRR+VpbFuoOwg2GBG0o4qZ",
      "include_colab_link": true
    },
    "kernelspec": {
      "name": "python3",
      "display_name": "Python 3"
    }
  },
  "cells": [
    {
      "cell_type": "markdown",
      "metadata": {
        "id": "view-in-github",
        "colab_type": "text"
      },
      "source": [
        "<a href=\"https://colab.research.google.com/github/Alex-Ukraine/python-intermediate/blob/master/muli_array.ipynb\" target=\"_parent\"><img src=\"https://colab.research.google.com/assets/colab-badge.svg\" alt=\"Open In Colab\"/></a>"
      ]
    },
    {
      "cell_type": "code",
      "metadata": {
        "id": "LF1CU99da8hE",
        "colab_type": "code",
        "colab": {}
      },
      "source": [
        "from multiprocessing import Process, Value, Array, Lock\n",
        "import time"
      ],
      "execution_count": 24,
      "outputs": []
    },
    {
      "cell_type": "code",
      "metadata": {
        "id": "MFpp2PKxb_Zs",
        "colab_type": "code",
        "colab": {
          "base_uri": "https://localhost:8080/",
          "height": 51
        },
        "outputId": "ba512735-76ad-4e9d-b545-02d07eb46382"
      },
      "source": [
        "def add_100(numbers, lock):\n",
        "    for i in range(100):\n",
        "        time.sleep(0.01)\n",
        "        for i in range(len(numbers)):\n",
        "            with lock:\n",
        "                numbers[i] += 1\n",
        "\n",
        "if __name__ == '__main__':\n",
        "\n",
        "    lock = Lock()\n",
        "    shared_array = Array('d', [0.0, 100.0, 200.0])\n",
        "    print('array at beginning is', shared_array[:])\n",
        "\n",
        "    p1 = Process(target=add_100, args=(shared_array, lock))\n",
        "    p2 = Process(target=add_100, args=(shared_array, lock))\n",
        "\n",
        "    p1.start()\n",
        "    p2.start()\n",
        "\n",
        "    p1.join()\n",
        "    p2.join()\n",
        "\n",
        "    print('number at end is', shared_array[:])"
      ],
      "execution_count": 25,
      "outputs": [
        {
          "output_type": "stream",
          "text": [
            "array at beginning is [0.0, 100.0, 200.0]\n",
            "number at end is [200.0, 300.0, 400.0]\n"
          ],
          "name": "stdout"
        }
      ]
    }
  ]
}