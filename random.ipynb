{
  "nbformat": 4,
  "nbformat_minor": 0,
  "metadata": {
    "colab": {
      "name": "random.ipynb",
      "provenance": [],
      "authorship_tag": "ABX9TyMAi/DM+yrjLutl3ISPvgJ8",
      "include_colab_link": true
    },
    "kernelspec": {
      "name": "python3",
      "display_name": "Python 3"
    }
  },
  "cells": [
    {
      "cell_type": "markdown",
      "metadata": {
        "id": "view-in-github",
        "colab_type": "text"
      },
      "source": [
        "<a href=\"https://colab.research.google.com/github/Alex-Ukraine/python-intermediate/blob/master/random.ipynb\" target=\"_parent\"><img src=\"https://colab.research.google.com/assets/colab-badge.svg\" alt=\"Open In Colab\"/></a>"
      ]
    },
    {
      "cell_type": "code",
      "metadata": {
        "id": "FrdLPyVn4tKX",
        "colab_type": "code",
        "colab": {}
      },
      "source": [
        "import random"
      ],
      "execution_count": 115,
      "outputs": []
    },
    {
      "cell_type": "code",
      "metadata": {
        "id": "GJzVHnm54v2p",
        "colab_type": "code",
        "colab": {
          "base_uri": "https://localhost:8080/",
          "height": 34
        },
        "outputId": "4b16f21a-3e37-461a-8dc0-ff4f3974dd3a"
      },
      "source": [
        "mylist = list(\"ABCDEFGH\")\n",
        "a = random.sample(mylist, 3)\n",
        "print(a)"
      ],
      "execution_count": 116,
      "outputs": [
        {
          "output_type": "stream",
          "text": [
            "['F', 'G', 'H']\n"
          ],
          "name": "stdout"
        }
      ]
    },
    {
      "cell_type": "code",
      "metadata": {
        "id": "zD3gV3_F5Iap",
        "colab_type": "code",
        "colab": {
          "base_uri": "https://localhost:8080/",
          "height": 34
        },
        "outputId": "ee91b7d6-41a9-474a-d261-ff7a5af02ca5"
      },
      "source": [
        "mylist = list(\"ABCDEFGH\")\n",
        "a = random.choices(mylist, k=3)\n",
        "print(a)"
      ],
      "execution_count": 117,
      "outputs": [
        {
          "output_type": "stream",
          "text": [
            "['E', 'G', 'D']\n"
          ],
          "name": "stdout"
        }
      ]
    },
    {
      "cell_type": "code",
      "metadata": {
        "id": "6IlRHFlW5x1v",
        "colab_type": "code",
        "colab": {}
      },
      "source": [
        "import secrets"
      ],
      "execution_count": 118,
      "outputs": []
    },
    {
      "cell_type": "code",
      "metadata": {
        "id": "f1r00Vye50V3",
        "colab_type": "code",
        "colab": {
          "base_uri": "https://localhost:8080/",
          "height": 34
        },
        "outputId": "ffe50090-326f-44d7-ad97-97cf6507b8e1"
      },
      "source": [
        "a = secrets.randbelow(10)\n",
        "print(a)"
      ],
      "execution_count": 119,
      "outputs": [
        {
          "output_type": "stream",
          "text": [
            "1\n"
          ],
          "name": "stdout"
        }
      ]
    },
    {
      "cell_type": "code",
      "metadata": {
        "id": "Q5S3dHdT6K8I",
        "colab_type": "code",
        "colab": {
          "base_uri": "https://localhost:8080/",
          "height": 34
        },
        "outputId": "1a967f95-2295-4c63-ec57-651bd15af956"
      },
      "source": [
        "a = secrets.randbits(3)\n",
        "print(a)"
      ],
      "execution_count": 120,
      "outputs": [
        {
          "output_type": "stream",
          "text": [
            "1\n"
          ],
          "name": "stdout"
        }
      ]
    },
    {
      "cell_type": "code",
      "metadata": {
        "id": "u0DDbwZT6h-w",
        "colab_type": "code",
        "colab": {
          "base_uri": "https://localhost:8080/",
          "height": 34
        },
        "outputId": "9f97e48d-4ebb-4c5a-9113-6e3e184cb8ff"
      },
      "source": [
        "mylist = list(\"ABCDEFGH\")\n",
        "a = secrets.choice(mylist)\n",
        "print(a)"
      ],
      "execution_count": 121,
      "outputs": [
        {
          "output_type": "stream",
          "text": [
            "C\n"
          ],
          "name": "stdout"
        }
      ]
    },
    {
      "cell_type": "code",
      "metadata": {
        "id": "eZ4gQOw97B-3",
        "colab_type": "code",
        "colab": {}
      },
      "source": [
        "import numpy as np"
      ],
      "execution_count": 122,
      "outputs": []
    },
    {
      "cell_type": "code",
      "metadata": {
        "id": "FJe51Jik7EZB",
        "colab_type": "code",
        "colab": {
          "base_uri": "https://localhost:8080/",
          "height": 187
        },
        "outputId": "08616420-e295-4974-9f89-b84026b5fd26"
      },
      "source": [
        "a = np.random.rand(10, 3)\n",
        "print(a)"
      ],
      "execution_count": 123,
      "outputs": [
        {
          "output_type": "stream",
          "text": [
            "[[0.4229748  0.08707189 0.1970822 ]\n",
            " [0.51587734 0.5058081  0.7409749 ]\n",
            " [0.63026148 0.75303417 0.99118965]\n",
            " [0.18350636 0.33405176 0.63623015]\n",
            " [0.98056381 0.45175518 0.25801462]\n",
            " [0.13544568 0.0559054  0.23389256]\n",
            " [0.85461123 0.34006986 0.82719142]\n",
            " [0.14399528 0.55046773 0.80670432]\n",
            " [0.53888025 0.96834176 0.11529689]\n",
            " [0.44355894 0.26949136 0.52910671]]\n"
          ],
          "name": "stdout"
        }
      ]
    },
    {
      "cell_type": "code",
      "metadata": {
        "id": "UK0GNkNG7yaw",
        "colab_type": "code",
        "colab": {
          "base_uri": "https://localhost:8080/",
          "height": 34
        },
        "outputId": "b66f1893-ae2d-4ddd-d385-fa60d9f8a380"
      },
      "source": [
        "a = np.random.randint(0, 10, 3)\n",
        "print(a)"
      ],
      "execution_count": 124,
      "outputs": [
        {
          "output_type": "stream",
          "text": [
            "[2 0 9]\n"
          ],
          "name": "stdout"
        }
      ]
    },
    {
      "cell_type": "code",
      "metadata": {
        "id": "leArQgbg7_h4",
        "colab_type": "code",
        "colab": {
          "base_uri": "https://localhost:8080/",
          "height": 68
        },
        "outputId": "ad23f693-c139-4266-f0d6-b5e22e5c49aa"
      },
      "source": [
        "a = np.random.randint(0, 10, (3, 4))\n",
        "print(a)"
      ],
      "execution_count": 125,
      "outputs": [
        {
          "output_type": "stream",
          "text": [
            "[[5 6 6 9]\n",
            " [9 3 5 6]\n",
            " [0 4 0 6]]\n"
          ],
          "name": "stdout"
        }
      ]
    }
  ]
}