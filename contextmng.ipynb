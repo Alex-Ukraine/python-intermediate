{
  "nbformat": 4,
  "nbformat_minor": 0,
  "metadata": {
    "colab": {
      "name": "contextmng.ipynb",
      "provenance": [],
      "authorship_tag": "ABX9TyM1gP9Kw4lFarmefhY/xjq1",
      "include_colab_link": true
    },
    "kernelspec": {
      "name": "python3",
      "display_name": "Python 3"
    }
  },
  "cells": [
    {
      "cell_type": "markdown",
      "metadata": {
        "id": "view-in-github",
        "colab_type": "text"
      },
      "source": [
        "<a href=\"https://colab.research.google.com/github/Alex-Ukraine/python-intermediate/blob/master/contextmng.ipynb\" target=\"_parent\"><img src=\"https://colab.research.google.com/assets/colab-badge.svg\" alt=\"Open In Colab\"/></a>"
      ]
    },
    {
      "cell_type": "code",
      "metadata": {
        "id": "BUKFpkbv74Bq",
        "colab_type": "code",
        "colab": {}
      },
      "source": [
        "from contextlib import contextmanager"
      ],
      "execution_count": 1,
      "outputs": []
    },
    {
      "cell_type": "code",
      "metadata": {
        "id": "fZXYLFBk7-2x",
        "colab_type": "code",
        "colab": {}
      },
      "source": [
        "@contextmanager\n",
        "def open_managed_file(filename):\n",
        "    f = open(filename, 'w')\n",
        "    try:\n",
        "        yield f\n",
        "    finally:\n",
        "        f.close()\n",
        "\n",
        "with open_managed_file('notes.txt') as f:\n",
        "    f.write('some todooo...')"
      ],
      "execution_count": 2,
      "outputs": []
    },
    {
      "cell_type": "code",
      "metadata": {
        "id": "PXZRBttq8sdu",
        "colab_type": "code",
        "colab": {
          "base_uri": "https://localhost:8080/",
          "height": 129
        },
        "outputId": "89f7581f-9993-496d-9511-36cecfa64845"
      },
      "source": [
        "class ManagedFile:\n",
        "    def __init__(self, filename):\n",
        "        print('init')\n",
        "        self.filename = filename\n",
        "\n",
        "    def __enter__(self):\n",
        "        print('enter')\n",
        "        self.file = open(self.filename, 'w')\n",
        "        return self.file\n",
        "\n",
        "    def __exit__(self, exc_type, exc_value, exc_traceback)\n",
        "        if self.file:\n",
        "            self.file.close()\n",
        "        if ecx_type is not None:\n",
        "            print('exception has been handled')\n",
        "        \n",
        "        print('exit')\n",
        "        return True\n",
        "with ManagedFile('notes.txt') as file:\n",
        "    print('do some stufff...')\n",
        "    file.write('some todooo...')\n",
        "    file.somemethod()\n",
        "print('continuing')"
      ],
      "execution_count": 3,
      "outputs": [
        {
          "output_type": "error",
          "ename": "SyntaxError",
          "evalue": "ignored",
          "traceback": [
            "\u001b[0;36m  File \u001b[0;32m\"<ipython-input-3-c96d8897d9d5>\"\u001b[0;36m, line \u001b[0;32m11\u001b[0m\n\u001b[0;31m    def __exit__(self, exc_type, exc_value, exc_traceback)\u001b[0m\n\u001b[0m                                                          ^\u001b[0m\n\u001b[0;31mSyntaxError\u001b[0m\u001b[0;31m:\u001b[0m invalid syntax\n"
          ]
        }
      ]
    }
  ]
}