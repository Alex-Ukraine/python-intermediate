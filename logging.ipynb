{
  "nbformat": 4,
  "nbformat_minor": 0,
  "metadata": {
    "colab": {
      "name": "logging.ipynb",
      "provenance": [],
      "authorship_tag": "ABX9TyNi3son5ga53iEa4jELSVAG",
      "include_colab_link": true
    },
    "kernelspec": {
      "name": "python3",
      "display_name": "Python 3"
    }
  },
  "cells": [
    {
      "cell_type": "markdown",
      "metadata": {
        "id": "view-in-github",
        "colab_type": "text"
      },
      "source": [
        "<a href=\"https://colab.research.google.com/github/Alex-Ukraine/python-intermediate/blob/master/logging.ipynb\" target=\"_parent\"><img src=\"https://colab.research.google.com/assets/colab-badge.svg\" alt=\"Open In Colab\"/></a>"
      ]
    },
    {
      "cell_type": "code",
      "metadata": {
        "id": "3sPqNcJ6NxNt",
        "colab_type": "code",
        "colab": {}
      },
      "source": [
        "import logging\n",
        "import logging.config\n",
        "from logging.handlers import RotatingFileHandler, TimedRotatingFileHandler\n",
        "import time"
      ],
      "execution_count": 39,
      "outputs": []
    },
    {
      "cell_type": "code",
      "metadata": {
        "id": "C3a642o9eT7L",
        "colab_type": "code",
        "colab": {}
      },
      "source": [
        "logging.config.fileConfig('logging.conf')"
      ],
      "execution_count": 40,
      "outputs": []
    },
    {
      "cell_type": "code",
      "metadata": {
        "id": "MZkueGIjV8hU",
        "colab_type": "code",
        "colab": {}
      },
      "source": [
        "logging.basicConfig(level=logging.DEBUG, format='%(asctime)s - %(name)s - %(levelname)s - %(message)s',\n",
        "                    datefmt='%m/%d/%Y %H:%M:%S')"
      ],
      "execution_count": 41,
      "outputs": []
    },
    {
      "cell_type": "code",
      "metadata": {
        "id": "7RJCfilEYTrn",
        "colab_type": "code",
        "colab": {}
      },
      "source": [
        "logger = logging.getLogger(__name__)\n",
        "logger.propagate = True"
      ],
      "execution_count": 42,
      "outputs": []
    },
    {
      "cell_type": "code",
      "metadata": {
        "id": "5huQHGfdY82X",
        "colab_type": "code",
        "colab": {}
      },
      "source": [
        "stream_h = logging.StreamHandler()\n",
        "file_h = logging.FileHandler('file.log')"
      ],
      "execution_count": 43,
      "outputs": []
    },
    {
      "cell_type": "code",
      "metadata": {
        "id": "42oGAaCRZ7Pe",
        "colab_type": "code",
        "colab": {}
      },
      "source": [
        "stream_h.setLevel(logging.WARNING)\n",
        "file_h.setLevel(logging.ERROR)"
      ],
      "execution_count": 44,
      "outputs": []
    },
    {
      "cell_type": "code",
      "metadata": {
        "id": "ys8AgM6yaIzb",
        "colab_type": "code",
        "colab": {}
      },
      "source": [
        "formatter = logging.Formatter('%(name)s - %(levelname)s - %(message)s')\n",
        "stream_h.setFormatter(formatter)\n",
        "file_h.setFormatter(formatter)"
      ],
      "execution_count": 45,
      "outputs": []
    },
    {
      "cell_type": "code",
      "metadata": {
        "id": "WDL_U7CSab4k",
        "colab_type": "code",
        "colab": {}
      },
      "source": [
        "logger.addHandler(stream_h)\n",
        "logger.addHandler(file_h)"
      ],
      "execution_count": 46,
      "outputs": []
    },
    {
      "cell_type": "code",
      "metadata": {
        "id": "Ys_jZxkMVNfF",
        "colab_type": "code",
        "colab": {}
      },
      "source": [
        "logger.debug('This is a debug message')\n",
        "logger.info('This is an info message')\n",
        "logger.warning('This is a warning message')\n",
        "logger.error('This is an error message')\n",
        "logger.critical('This is a critical message')"
      ],
      "execution_count": 47,
      "outputs": []
    },
    {
      "cell_type": "code",
      "metadata": {
        "id": "8DumW0sJfUhY",
        "colab_type": "code",
        "colab": {
          "base_uri": "https://localhost:8080/",
          "height": 34
        },
        "outputId": "dad74586-e0a0-46d8-a652-64bc2812eb41"
      },
      "source": [
        "logger = logging.getLogger('simpleExample')\n",
        "logger.debug('this is a debug message')"
      ],
      "execution_count": 48,
      "outputs": [
        {
          "output_type": "stream",
          "text": [
            "2020-08-30 04:38:15,756 - simpleExample - DEBUG - this is a debug message\n"
          ],
          "name": "stdout"
        }
      ]
    },
    {
      "cell_type": "code",
      "metadata": {
        "id": "tojtnjmtnw5Z",
        "colab_type": "code",
        "colab": {}
      },
      "source": [
        "logger.setLevel(logging.INFO)\n",
        "#handler = RotatingFileHandler('app.log', maxBytes=2000, backupCount=5)\n",
        "handler = TimedRotatingFileHandler('timed_test.log', when='s', interval=5, backupCount=5)\n",
        "logger.addHandler(handler)"
      ],
      "execution_count": 49,
      "outputs": []
    },
    {
      "cell_type": "code",
      "metadata": {
        "id": "c-A4jubfoFfF",
        "colab_type": "code",
        "colab": {}
      },
      "source": [
        "for _ in range(10060):\n",
        "    logger.info('Hello, world!')\n",
        "    time.sleep(5)"
      ],
      "execution_count": null,
      "outputs": []
    }
  ]
}